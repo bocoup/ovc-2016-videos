{
 "cells": [
  {
   "cell_type": "markdown",
   "metadata": {},
   "source": [
    "# Topic modeling\n",
    "\n",
    "Can we build interesting topics from the transcripts? WHO KNOWS. Let's try.\n",
    "\n",
    "Following code here: https://de.dariah.eu/tatom/topic_model_python.html"
   ]
  },
  {
   "cell_type": "code",
   "execution_count": 62,
   "metadata": {
    "collapsed": false
   },
   "outputs": [],
   "source": [
    "import os\n",
    "import numpy as np\n",
    "import sklearn.feature_extraction.text as text\n",
    "from sklearn import decomposition"
   ]
  },
  {
   "cell_type": "markdown",
   "metadata": {},
   "source": [
    "### Get all transcript files:"
   ]
  },
  {
   "cell_type": "code",
   "execution_count": 18,
   "metadata": {
    "collapsed": false
   },
   "outputs": [],
   "source": [
    "CORPUS_PATH = os.path.join(\"transcripts_no_timestamp\")\n",
    "filenames = sorted([os.path.join(CORPUS_PATH, fn) for fn in os.listdir(CORPUS_PATH)])"
   ]
  },
  {
   "cell_type": "markdown",
   "metadata": {},
   "source": [
    "### Vectorize"
   ]
  },
  {
   "cell_type": "code",
   "execution_count": 55,
   "metadata": {
    "collapsed": false
   },
   "outputs": [],
   "source": [
    "vectorizer = text.TfidfVectorizer(input='filename', stop_words='english', min_df=1, use_idf=True)\n",
    "dtm = vectorizer.fit_transform(filenames).toarray()\n",
    "vocab = np.array(vectorizer.get_feature_names())"
   ]
  },
  {
   "cell_type": "markdown",
   "metadata": {},
   "source": [
    "### Build topic models"
   ]
  },
  {
   "cell_type": "code",
   "execution_count": 63,
   "metadata": {
    "collapsed": false
   },
   "outputs": [],
   "source": [
    "num_topics = 8\n",
    "num_top_words = 10\n",
    "clf = decomposition.NMF(n_components=num_topics, random_state=1)\n",
    "doctopic = clf.fit_transform(dtm)"
   ]
  },
  {
   "cell_type": "markdown",
   "metadata": {},
   "source": [
    "## Output"
   ]
  },
  {
   "cell_type": "code",
   "execution_count": 90,
   "metadata": {
    "collapsed": false
   },
   "outputs": [
    {
     "data": {
      "text/plain": [
       "['0: like, image, data, gradient, pixel, satellite, color, want, canvas, going',\n",
       " '1: distribution, uncertainty, data, people, difference, heights, statistics, like, plots, observed',\n",
       " '2: charts, participants, pie, chart, bar, studies, data, line, chartbuilder, people',\n",
       " '3: like, vr, attention, just, thing, people, really, things, right, think',\n",
       " '4: data, seasonality, customers, illumination, week, really, workflows, time, product, day',\n",
       " '5: views, like, model, page, player, tennis, career, tournaments, wikipedia, data',\n",
       " '6: vega, brush, data, events, interaction, signals, event, know, signal, values',\n",
       " '7: net, neural, like, robot, words, things, data, images, going, network']"
      ]
     },
     "execution_count": 90,
     "metadata": {},
     "output_type": "execute_result"
    }
   ],
   "source": [
    "topic_words = []\n",
    "idx = 0\n",
    "for topic in clf.components_:\n",
    "    word_idx = np.argsort(topic)[::-1][0:num_top_words]\n",
    "    topic_words.append(str(idx) + \": \" + \", \".join([vocab[i] for i in word_idx]))\n",
    "    idx += 1\n",
    "topic_words"
   ]
  },
  {
   "cell_type": "markdown",
   "metadata": {},
   "source": [
    "# Testing document fit"
   ]
  },
  {
   "cell_type": "code",
   "execution_count": 92,
   "metadata": {
    "collapsed": false
   },
   "outputs": [
    {
     "name": "stdout",
     "output_type": "stream",
     "text": [
      "Top NMF topics in...\n",
      "albrecht: 0 4 1\n",
      "armstrong: 5 3 4\n",
      "ase: 2 3 5\n",
      "becker: 0 7 6\n",
      "binx: 6 7 5\n",
      "bremer: 0 2 6\n",
      "elliott: 4 3 1\n",
      "halabi: 7 6 5\n",
      "hu: 7 4 6\n",
      "hullman: 4 3 7\n",
      "ivo: 4 7 6\n",
      "kosaka: 3 7 6\n",
      "llins: 0 3 7\n",
      "mcdonald: 1 0 7\n",
      "mcnamara: 1 2 7\n",
      "pearce: 3 6 0\n",
      "satyanarayan: 3 7 6\n",
      "waigl: 7 1 3\n",
      "wattenberg_viegas: 5 7 6\n",
      "wu: 2 7 6\n",
      "yanofsky: 3 7 5\n"
     ]
    }
   ],
   "source": [
    "doctopic = doctopic / np.sum(doctopic, axis=1, keepdims=True)\n",
    "novel_names = []\n",
    "\n",
    "for fn in filenames:\n",
    "    basename = os.path.basename(fn)\n",
    "    name, ext = os.path.splitext(basename)\n",
    "    name = name.lstrip('ovc2016_0123456789')\n",
    "    novel_names.append(name)\n",
    "\n",
    "novel_names = np.asarray(novel_names)\n",
    "doctopic_orig = doctopic.copy()\n",
    "num_groups = len(set(novel_names))\n",
    "doctopic_grouped = np.zeros((num_groups, num_topics))\n",
    "for i, name in enumerate(sorted(set(novel_names))):\n",
    "    doctopic_grouped[i, :] = np.mean(doctopic[novel_names == name, :], axis=0)\n",
    "\n",
    "doctopic = doctopic_grouped\n",
    "novels = sorted(set(novel_names))\n",
    "print(\"Top NMF topics in...\")\n",
    "for i in range(len(doctopic)):\n",
    "    top_topics = np.argsort(doctopic[i,:])[::-1][0:3]\n",
    "    top_topics_str = ' '.join(str(t) for t in top_topics)\n",
    "    print(\"{}: {}\".format(novels[i], top_topics_str))"
   ]
  },
  {
   "cell_type": "markdown",
   "metadata": {},
   "source": [
    "# Final Thoughts\n",
    "\n",
    "These look fairly uninteresting.\n",
    "Not sure why the word \"like\" appears in so many of these.\n",
    "It did do some interesting groupings:\n",
    "\n",
    "* Satalite & canvas talks\n",
    "* neural nets talks\n",
    "* charting talks\n",
    "* stats talks\n",
    "\n",
    "Not sure that there's anything we should do with this, but recording it here for future reference.\n",
    "\n",
    "Also clearly this algorithm isn't particularly solid. Jim suggested I try out http://radimrehurek.com/topic_modeling_tutorial/2%20-%20Topic%20Modeling.html but I'm calling it bust."
   ]
  },
  {
   "cell_type": "code",
   "execution_count": null,
   "metadata": {
    "collapsed": true
   },
   "outputs": [],
   "source": []
  }
 ],
 "metadata": {
  "kernelspec": {
   "display_name": "Python 3",
   "language": "python",
   "name": "python3"
  },
  "language_info": {
   "codemirror_mode": {
    "name": "ipython",
    "version": 3
   },
   "file_extension": ".py",
   "mimetype": "text/x-python",
   "name": "python",
   "nbconvert_exporter": "python",
   "pygments_lexer": "ipython3",
   "version": "3.5.0"
  }
 },
 "nbformat": 4,
 "nbformat_minor": 0
}
